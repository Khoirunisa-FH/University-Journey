{
  "cells": [
    {
      "cell_type": "markdown",
      "id": "e2a030e3",
      "metadata": {
        "id": "e2a030e3"
      },
      "source": [
        "# Advanced Machine Learning using Spark MLlib"
      ]
    },
    {
      "cell_type": "markdown",
      "id": "77df771a",
      "metadata": {
        "id": "77df771a"
      },
      "source": [
        "## Introduction to Spark MLlib\n",
        "Spark MLlib is a scalable library for machine learning that integrates seamlessly with the Spark ecosystem. It supports a wide range of tasks, including regression, classification, clustering, and collaborative filtering."
      ]
    },
    {
      "cell_type": "markdown",
      "source": [
        "### Linear Regression with Spark MLlib"
      ],
      "metadata": {
        "id": "jm8XwfPnaWxH"
      },
      "id": "jm8XwfPnaWxH"
    },
    {
      "cell_type": "code",
      "execution_count": null,
      "id": "d9ae225b",
      "metadata": {
        "id": "d9ae225b",
        "colab": {
          "base_uri": "https://localhost:8080/"
        },
        "outputId": "c892b3a1-1b84-4dd1-a7f3-0d36f5d9bd2a"
      },
      "outputs": [
        {
          "output_type": "stream",
          "name": "stdout",
          "text": [
            "Coefficients: [0.9999999999999992]\n",
            "Intercept: 15.000000000000009\n"
          ]
        }
      ],
      "source": [
        "from pyspark.sql import SparkSession\n",
        "from pyspark.ml.regression import LinearRegression\n",
        "from pyspark.ml.feature import VectorAssembler\n",
        "\n",
        "# Initialize Spark Session\n",
        "spark = SparkSession.builder.appName('MLlib Example').getOrCreate()\n",
        "\n",
        "# Load sample data\n",
        "data = [(1, 5.0, 20.0), (2, 10.0, 25.0), (3, 15.0, 30.0), (4, 20.0, 35.0)]\n",
        "columns = ['ID', 'Feature', 'Target']\n",
        "df = spark.createDataFrame(data, columns)\n",
        "\n",
        "# Prepare data for modeling\n",
        "assembler = VectorAssembler(inputCols=['Feature'], outputCol='Features')\n",
        "df_transformed = assembler.transform(df)\n",
        "\n",
        "# Train a linear regression model\n",
        "lr = LinearRegression(featuresCol='Features', labelCol='Target')\n",
        "model = lr.fit(df_transformed)\n",
        "\n",
        "# Print model coefficients\n",
        "print(f'Coefficients: {model.coefficients}')\n",
        "print(f'Intercept: {model.intercept}')\n"
      ]
    },
    {
      "cell_type": "markdown",
      "source": [
        "### Logistic Regression"
      ],
      "metadata": {
        "id": "xU43uRxoafzU"
      },
      "id": "xU43uRxoafzU"
    },
    {
      "cell_type": "code",
      "execution_count": null,
      "id": "0b266267",
      "metadata": {
        "id": "0b266267",
        "colab": {
          "base_uri": "https://localhost:8080/"
        },
        "outputId": "909dbc05-e938-49be-e633-fc092a341c62"
      },
      "outputs": [
        {
          "output_type": "stream",
          "name": "stdout",
          "text": [
            "Coefficients: [-12.262057929180484,4.087352266486688]\n",
            "Intercept: 11.56891272665312\n"
          ]
        }
      ],
      "source": [
        "from pyspark.sql import SparkSession\n",
        "from pyspark.ml.classification import LogisticRegression\n",
        "from pyspark.ml.linalg import Vectors\n",
        "\n",
        "# Initialize Spark Session\n",
        "spark = SparkSession.builder.appName(\"LogisticRegressionExample\").getOrCreate()\n",
        "\n",
        "# Load sample data\n",
        "data = [\n",
        "    (1, Vectors.dense([2.0, 3.0]), 0),\n",
        "    (2, Vectors.dense([1.0, 5.0]), 1),\n",
        "    (3, Vectors.dense([2.5, 4.5]), 1),\n",
        "    (4, Vectors.dense([3.0, 6.0]), 0)\n",
        "]\n",
        "columns = ['ID', 'Features', 'Label']\n",
        "df = spark.createDataFrame(data, columns)\n",
        "\n",
        "# Train logistic regression model\n",
        "lr = LogisticRegression(featuresCol='Features', labelCol='Label')\n",
        "model = lr.fit(df)\n",
        "\n",
        "# Display coefficients and summary\n",
        "print(f'Coefficients: {model.coefficients}')\n",
        "print(f'Intercept: {model.intercept}')"
      ]
    },
    {
      "cell_type": "markdown",
      "source": [
        "### KMeans Clustering"
      ],
      "metadata": {
        "id": "Huuqr8BXanWs"
      },
      "id": "Huuqr8BXanWs"
    },
    {
      "cell_type": "code",
      "source": [
        "from pyspark.sql import SparkSession\n",
        "from pyspark.ml.clustering import KMeans\n",
        "from pyspark.ml.linalg import Vectors\n",
        "\n",
        "# Initialize Spark Session\n",
        "spark = SparkSession.builder.appName(\"KMeansClusteringExample\").getOrCreate()\n",
        "\n",
        "# Load sample data\n",
        "data = [\n",
        "    (1, Vectors.dense([1.0, 1.0])),\n",
        "    (2, Vectors.dense([5.0, 5.0])),\n",
        "    (3, Vectors.dense([10.0, 10.0])),\n",
        "    (4, Vectors.dense([15.0, 15.0]))\n",
        "]\n",
        "columns = ['ID', 'Features']\n",
        "df = spark.createDataFrame(data, columns)\n",
        "\n",
        "# Train KMeans clustering model\n",
        "kmeans = KMeans(featuresCol='Features', k=2, seed=42)  # k=2 untuk 2 cluster\n",
        "model = kmeans.fit(df)\n",
        "\n",
        "# Show cluster centers\n",
        "centers = model.clusterCenters()\n",
        "print(f'Cluster Centers: {centers}')\n"
      ],
      "metadata": {
        "colab": {
          "base_uri": "https://localhost:8080/"
        },
        "id": "P6XY7f9mgX6H",
        "outputId": "ac4f25f0-1bfe-412c-cc3c-47829fea2eb5"
      },
      "id": "P6XY7f9mgX6H",
      "execution_count": null,
      "outputs": [
        {
          "output_type": "stream",
          "name": "stdout",
          "text": [
            "Cluster Centers: [array([12.5, 12.5]), array([3., 3.])]\n"
          ]
        }
      ]
    },
    {
      "cell_type": "markdown",
      "id": "a60a8d7e",
      "metadata": {
        "id": "a60a8d7e"
      },
      "source": [
        "## Homework\n",
        "- Load a real-world dataset into Spark and prepare it for machine learning tasks.\n",
        "- Build a classification model using Spark MLlib and evaluate its performance.\n",
        "- Explore hyperparameter tuning using cross-validation.\n"
      ]
    },
    {
      "cell_type": "code",
      "source": [
        "from pyspark.sql import SparkSession\n",
        "from pyspark.sql.functions import col, when\n",
        "from pyspark.ml.feature import StringIndexer, OneHotEncoder, VectorAssembler, StandardScaler\n",
        "from pyspark.ml import Pipeline\n",
        "from pyspark.ml.classification import LogisticRegression, RandomForestClassifier, GBTClassifier\n",
        "from pyspark.ml.evaluation import BinaryClassificationEvaluator, MulticlassClassificationEvaluator\n",
        "from pyspark.ml.tuning import ParamGridBuilder, CrossValidator\n",
        "from pyspark.ml.regression import GeneralizedLinearRegression\n",
        "import matplotlib.pyplot as plt\n",
        "\n",
        "# Inisialisasi SparkSession dengan konfigurasi tambahan\n",
        "spark = SparkSession.builder \\\n",
        "    .appName(\"Advanced Bank Marketing ML Analysis\") \\\n",
        "    .config(\"spark.executor.memory\", \"4g\") \\\n",
        "    .config(\"spark.driver.memory\", \"4g\") \\\n",
        "    .getOrCreate()\n",
        "\n",
        "# Load dataset\n",
        "file_path = \"bank.csv\"\n",
        "df = spark.read.csv(file_path, header=True, inferSchema=True)\n",
        "\n",
        "# 1. Analisis Eksplorasi Data\n",
        "print(\"Struktur Dataset:\")\n",
        "df.printSchema()\n",
        "\n",
        "print(\"\\nRingkasan Statistik:\")\n",
        "df.describe().show()\n",
        "\n",
        "# Mengecek distribusi label\n",
        "label_distribution = df.groupBy(\"deposit\").count()\n",
        "print(\"\\nDistribusi Label:\")\n",
        "label_distribution.show()\n",
        "\n",
        "# 2. Persiapan Dataset\n",
        "# Transformasi label menjadi numerik\n",
        "df = df.withColumn(\"label\", when(col(\"deposit\") == \"yes\", 1.0).otherwise(0.0))\n",
        "df = df.drop(\"deposit\")\n",
        "\n",
        "# Identifikasi fitur\n",
        "categorical_cols = [\"job\", \"marital\", \"education\", \"default\", \"housing\", \"loan\", \"contact\", \"month\", \"poutcome\"]\n",
        "numeric_cols = [\"age\", \"balance\", \"day\", \"duration\", \"campaign\", \"pdays\", \"previous\"]\n",
        "\n",
        "# 3. Preprocessing dengan Pipeline\n",
        "# StringIndexer untuk fitur kategorikal\n",
        "indexers = [StringIndexer(inputCol=col, outputCol=f\"{col}_index\", handleInvalid=\"keep\")\n",
        "            for col in categorical_cols]\n",
        "\n",
        "# OneHotEncoder untuk fitur kategorikal\n",
        "encoders = [OneHotEncoder(inputCols=[f\"{col}_index\" for col in categorical_cols],\n",
        "                          outputCols=[f\"{col}_encoded\" for col in categorical_cols])]\n",
        "\n",
        "# StandardScaler untuk fitur numerik\n",
        "scaler = StandardScaler(inputCol=\"numeric_features\",\n",
        "                        outputCol=\"scaled_numeric_features\",\n",
        "                        withStd=True,\n",
        "                        withMean=True)\n",
        "\n",
        "# Persiapan fitur numerik\n",
        "assembler_numeric = VectorAssembler(inputCols=numeric_cols, outputCol=\"numeric_features\")\n",
        "\n",
        "# VectorAssembler untuk menggabungkan semua fitur\n",
        "final_assembler = VectorAssembler(\n",
        "    inputCols=[f\"{col}_encoded\" for col in categorical_cols] + [\"scaled_numeric_features\"],\n",
        "    outputCol=\"features\"\n",
        ")\n",
        "\n",
        "# 4. Model-model Machine Learning\n",
        "# Logistic Regression\n",
        "lr = LogisticRegression(featuresCol=\"features\", labelCol=\"label\")\n",
        "\n",
        "# Random Forest\n",
        "rf = RandomForestClassifier(featuresCol=\"features\", labelCol=\"label\")\n",
        "\n",
        "# Gradient Boosted Trees\n",
        "gbt = GBTClassifier(featuresCol=\"features\", labelCol=\"label\")\n",
        "\n",
        "# 5. Pipeline Preprocessing dan Model\n",
        "# Konstruksi pipeline untuk setiap model\n",
        "def create_pipeline(model):\n",
        "    return Pipeline(stages=indexers + encoders + [\n",
        "        assembler_numeric,\n",
        "        scaler,\n",
        "        final_assembler,\n",
        "        model\n",
        "    ])\n",
        "\n",
        "# 6. Hyperparameter Tuning dengan Cross-Validation\n",
        "# Parameter Grid untuk setiap model\n",
        "param_grid_lr = ParamGridBuilder() \\\n",
        "    .addGrid(lr.regParam, [0.01, 0.1, 1.0]) \\\n",
        "    .addGrid(lr.elasticNetParam, [0.0, 0.5, 1.0]) \\\n",
        "    .build()\n",
        "\n",
        "param_grid_rf = ParamGridBuilder() \\\n",
        "    .addGrid(rf.numTrees, [10, 50, 100]) \\\n",
        "    .addGrid(rf.maxDepth, [5, 10, 15]) \\\n",
        "    .build()\n",
        "\n",
        "param_grid_gbt = ParamGridBuilder() \\\n",
        "    .addGrid(gbt.maxIter, [50, 100]) \\\n",
        "    .addGrid(gbt.maxDepth, [5, 10]) \\\n",
        "    .build()\n",
        "\n",
        "# Evaluator\n",
        "binary_evaluator = BinaryClassificationEvaluator(labelCol=\"label\")\n",
        "multiclass_evaluator = MulticlassClassificationEvaluator(labelCol=\"label\")\n",
        "\n",
        "# Fungsi untuk melakukan cross-validation\n",
        "def perform_cross_validation(pipeline, param_grid, evaluator):\n",
        "    crossval = CrossValidator(\n",
        "        estimator=pipeline,\n",
        "        estimatorParamMaps=param_grid,\n",
        "        evaluator=evaluator,\n",
        "        numFolds=5\n",
        "    )\n",
        "    return crossval\n",
        "\n",
        "# 7. Split Dataset menjadi data pelatihan dan pengujian\n",
        "(train_data, test_data) = df.randomSplit([0.8, 0.2], seed=42)\n",
        "\n",
        "# Daftar model untuk eksperimen\n",
        "models_to_evaluate = [\n",
        "    (\"Logistic Regression\", lr, create_pipeline(lr), param_grid_lr, binary_evaluator),\n",
        "    (\"Random Forest\", rf, create_pipeline(rf), param_grid_rf, multiclass_evaluator),\n",
        "    (\"Gradient Boosted Trees\", gbt, create_pipeline(gbt), param_grid_gbt, multiclass_evaluator)\n",
        "]\n",
        "\n",
        "# 8. Evaluasi Model\n",
        "results = []\n",
        "for name, model, pipeline, params, evaluator in models_to_evaluate:\n",
        "    print(f\"\\n--- Evaluasi {name} ---\")\n",
        "\n",
        "    # Cross-validation\n",
        "    cv_model = perform_cross_validation(pipeline, params, evaluator)\n",
        "    cv_fitted_model = cv_model.fit(train_data)\n",
        "\n",
        "    # Prediksi pada data test\n",
        "    predictions = cv_fitted_model.transform(test_data)\n",
        "\n",
        "    # Evaluasi performa\n",
        "    score = evaluator.evaluate(predictions)\n",
        "    results.append({\n",
        "        \"Model\": name,\n",
        "        \"Score\": score\n",
        "    })\n",
        "\n",
        "    print(f\"Performance Score: {score}\")\n",
        "\n",
        "    # Tampilkan beberapa prediksi\n",
        "    predictions.select(\"features\", \"label\", \"prediction\", \"probability\").show(5)\n",
        "\n",
        "# 9. Visualisasi Perbandingan Model\n",
        "plt.figure(figsize=(10, 6))\n",
        "plt.bar([r[\"Model\"] for r in results], [r[\"Score\"] for r in results])\n",
        "plt.title(\"Perbandingan Performa Model\")\n",
        "plt.xlabel(\"Model\")\n",
        "plt.ylabel(\"Skor Evaluasi\")\n",
        "plt.xticks(rotation=45)\n",
        "plt.tight_layout()\n",
        "plt.savefig(\"model_comparison.png\")\n",
        "\n",
        "# Simpan hasil eksperimen\n",
        "spark.createDataFrame(results).write.csv(\"model_results\", mode=\"overwrite\", header=True)\n",
        "\n",
        "# Tutup SparkSession\n",
        "spark.stop()\n",
        "\n",
        "print(\"\\nAnalisis selesai.\")"
      ],
      "metadata": {
        "colab": {
          "base_uri": "https://localhost:8080/",
          "height": 1000
        },
        "id": "9uGLdLyYOKEE",
        "outputId": "c31349d9-685a-441b-9159-f86e47f9b941"
      },
      "id": "9uGLdLyYOKEE",
      "execution_count": 21,
      "outputs": [
        {
          "output_type": "stream",
          "name": "stdout",
          "text": [
            "Struktur Dataset:\n",
            "root\n",
            " |-- age: integer (nullable = true)\n",
            " |-- job: string (nullable = true)\n",
            " |-- marital: string (nullable = true)\n",
            " |-- education: string (nullable = true)\n",
            " |-- default: string (nullable = true)\n",
            " |-- balance: integer (nullable = true)\n",
            " |-- housing: string (nullable = true)\n",
            " |-- loan: string (nullable = true)\n",
            " |-- contact: string (nullable = true)\n",
            " |-- day: integer (nullable = true)\n",
            " |-- month: string (nullable = true)\n",
            " |-- duration: integer (nullable = true)\n",
            " |-- campaign: integer (nullable = true)\n",
            " |-- pdays: integer (nullable = true)\n",
            " |-- previous: integer (nullable = true)\n",
            " |-- poutcome: string (nullable = true)\n",
            " |-- deposit: string (nullable = true)\n",
            "\n",
            "\n",
            "Ringkasan Statistik:\n",
            "+-------+------------------+-------+--------+---------+-------+------------------+-------+-----+--------+------------------+-----+------------------+------------------+------------------+------------------+--------+-------+\n",
            "|summary|               age|    job| marital|education|default|           balance|housing| loan| contact|               day|month|          duration|          campaign|             pdays|          previous|poutcome|deposit|\n",
            "+-------+------------------+-------+--------+---------+-------+------------------+-------+-----+--------+------------------+-----+------------------+------------------+------------------+------------------+--------+-------+\n",
            "|  count|             11162|  11162|   11162|    11162|  11162|             11162|  11162|11162|   11162|             11162|11162|             11162|             11162|             11162|             11162|   11162|  11162|\n",
            "|   mean|41.231947679627304|   NULL|    NULL|     NULL|   NULL|1528.5385235620856|   NULL| NULL|    NULL|15.658036194230425| NULL|371.99381831213043| 2.508421429851281| 51.33040673714388|0.8325568894463358|    NULL|   NULL|\n",
            "| stddev|11.913369192215518|   NULL|    NULL|     NULL|   NULL| 3225.413325946149|   NULL| NULL|    NULL| 8.420739541006462| NULL|347.12838571630687|2.7220771816614824|108.75828197197717| 2.292007218670508|    NULL|   NULL|\n",
            "|    min|                18| admin.|divorced|  primary|     no|             -6847|     no|   no|cellular|                 1|  apr|                 2|                 1|                -1|                 0| failure|     no|\n",
            "|    max|                95|unknown|  single|  unknown|    yes|             81204|    yes|  yes| unknown|                31|  sep|              3881|                63|               854|                58| unknown|    yes|\n",
            "+-------+------------------+-------+--------+---------+-------+------------------+-------+-----+--------+------------------+-----+------------------+------------------+------------------+------------------+--------+-------+\n",
            "\n",
            "\n",
            "Distribusi Label:\n",
            "+-------+-----+\n",
            "|deposit|count|\n",
            "+-------+-----+\n",
            "|     no| 5873|\n",
            "|    yes| 5289|\n",
            "+-------+-----+\n",
            "\n",
            "\n",
            "--- Evaluasi Logistic Regression ---\n",
            "Performance Score: 0.8916101968930437\n",
            "+--------------------+-----+----------+--------------------+\n",
            "|            features|label|prediction|         probability|\n",
            "+--------------------+-----+----------+--------------------+\n",
            "|(51,[7,13,15,19,2...|  0.0|       0.0|[0.59743580938026...|\n",
            "|(51,[7,13,18,19,2...|  1.0|       0.0|[0.55443670912875...|\n",
            "|(51,[7,13,17,19,2...|  1.0|       0.0|[0.69491634075968...|\n",
            "|(51,[7,13,15,19,2...|  1.0|       1.0|[0.17272809353506...|\n",
            "|(51,[7,13,18,19,2...|  1.0|       1.0|[0.11532626019484...|\n",
            "+--------------------+-----+----------+--------------------+\n",
            "only showing top 5 rows\n",
            "\n",
            "\n",
            "--- Evaluasi Random Forest ---\n",
            "Performance Score: 0.8370219984861333\n",
            "+--------------------+-----+----------+--------------------+\n",
            "|            features|label|prediction|         probability|\n",
            "+--------------------+-----+----------+--------------------+\n",
            "|(51,[7,13,15,19,2...|  0.0|       1.0|[0.29992339309980...|\n",
            "|(51,[7,13,18,19,2...|  1.0|       1.0|[0.21795774162074...|\n",
            "|(51,[7,13,17,19,2...|  1.0|       1.0|[0.41660860630937...|\n",
            "|(51,[7,13,15,19,2...|  1.0|       1.0|[0.15749554737195...|\n",
            "|(51,[7,13,18,19,2...|  1.0|       1.0|[0.01791900683415...|\n",
            "+--------------------+-----+----------+--------------------+\n",
            "only showing top 5 rows\n",
            "\n",
            "\n",
            "--- Evaluasi Gradient Boosted Trees ---\n",
            "Performance Score: 0.8531924628454672\n",
            "+--------------------+-----+----------+--------------------+\n",
            "|            features|label|prediction|         probability|\n",
            "+--------------------+-----+----------+--------------------+\n",
            "|(51,[7,13,15,19,2...|  0.0|       1.0|[0.47406734335867...|\n",
            "|(51,[7,13,18,19,2...|  1.0|       1.0|[0.25401688207982...|\n",
            "|(51,[7,13,17,19,2...|  1.0|       0.0|[0.84038434955753...|\n",
            "|(51,[7,13,15,19,2...|  1.0|       1.0|[0.07384466041782...|\n",
            "|(51,[7,13,18,19,2...|  1.0|       1.0|[0.01386348608399...|\n",
            "+--------------------+-----+----------+--------------------+\n",
            "only showing top 5 rows\n",
            "\n",
            "\n",
            "Analisis selesai.\n"
          ]
        },
        {
          "output_type": "display_data",
          "data": {
            "text/plain": [
              "<Figure size 1000x600 with 1 Axes>"
            ],
            "image/png": "[encoded data removed]"
          },
          "metadata": {}
        }
      ]
    }
  ],
  "metadata": {
    "colab": {
      "provenance": []
    },
    "language_info": {
      "name": "python"
    },
    "kernelspec": {
      "name": "python3",
      "display_name": "Python 3"
    }
  },
  "nbformat": 4,
  "nbformat_minor": 5
}