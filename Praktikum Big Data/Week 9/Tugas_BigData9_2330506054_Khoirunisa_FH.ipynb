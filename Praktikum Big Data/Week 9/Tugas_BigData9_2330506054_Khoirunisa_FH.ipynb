{
  "cells": [
    {
      "cell_type": "markdown",
      "id": "115f65d3",
      "metadata": {
        "id": "115f65d3"
      },
      "source": [
        "# Spark SQL"
      ]
    },
    {
      "cell_type": "markdown",
      "id": "e6451bf1-1c9e-4bc1-9628-26d145526f7a",
      "metadata": {
        "id": "e6451bf1-1c9e-4bc1-9628-26d145526f7a"
      },
      "source": [
        "##  Basic SQL Operations in Spark SQL\n"
      ]
    },
    {
      "cell_type": "code",
      "source": [
        "pip install findspark"
      ],
      "metadata": {
        "colab": {
          "base_uri": "https://localhost:8080/"
        },
        "id": "lFFVwntPa5zt",
        "outputId": "1e9904b4-4d9d-4828-f491-145223296b76"
      },
      "id": "lFFVwntPa5zt",
      "execution_count": 5,
      "outputs": [
        {
          "output_type": "stream",
          "name": "stdout",
          "text": [
            "Requirement already satisfied: findspark in /usr/local/lib/python3.10/dist-packages (2.0.1)\n"
          ]
        }
      ]
    },
    {
      "cell_type": "markdown",
      "id": "ce5d3f72-39de-45d2-af7c-950336eda4bc",
      "metadata": {
        "id": "ce5d3f72-39de-45d2-af7c-950336eda4bc"
      },
      "source": [
        "### Tugas\n",
        "Ulangi pemahaman Anda tentang SQL dasar dengan menjalankan queries sederhana pada dataset di Spark SQL."
      ]
    },
    {
      "cell_type": "code",
      "execution_count": 6,
      "id": "164417c0-1a64-46d7-9512-dcf340d2d2d6",
      "metadata": {
        "id": "164417c0-1a64-46d7-9512-dcf340d2d2d6"
      },
      "outputs": [],
      "source": [
        "import findspark\n",
        "findspark.init()"
      ]
    },
    {
      "cell_type": "code",
      "execution_count": 7,
      "id": "debd2c72-845e-4e5b-bb56-93f03fc6cf14",
      "metadata": {
        "id": "debd2c72-845e-4e5b-bb56-93f03fc6cf14"
      },
      "outputs": [],
      "source": [
        "from pyspark.sql import SparkSession\n",
        "spark = SparkSession.builder.appName(\"tugas_9\").getOrCreate()"
      ]
    },
    {
      "cell_type": "code",
      "execution_count": 8,
      "id": "974a023b",
      "metadata": {
        "colab": {
          "base_uri": "https://localhost:8080/"
        },
        "id": "974a023b",
        "outputId": "e6436a98-1bbe-45ec-c1cf-794eeb49fc0f"
      },
      "outputs": [
        {
          "output_type": "stream",
          "name": "stdout",
          "text": [
            "+------+---+------+------+------+\n",
            "|  Name|Age|Gender|Salary|DeptId|\n",
            "+------+---+------+------+------+\n",
            "| James| 34|     M|  3000|     1|\n",
            "|  Anna| 28|     F|  4100|     2|\n",
            "|   Lee| 23|     M|  2700|     1|\n",
            "|  Kate| 28|     F|  5000|     3|\n",
            "|  John| 31|     M|  3500|     2|\n",
            "|  Emma| 32|     F|  3200|     3|\n",
            "|  Mike| 27|     M|  2800|     1|\n",
            "|  Sara| 23|     F|  4500|     2|\n",
            "|   Tom| 30|     M|  3000|     3|\n",
            "| Julia| 28|     F|  3900|     1|\n",
            "|Carlos| 32|     M|  4600|     2|\n",
            "| Diana| 32|     F|  4200|     3|\n",
            "| Steve| 35|     M|  5500|     1|\n",
            "|Sophia| 23|     F|  3100|     2|\n",
            "| Chris| 28|     M|  4100|     3|\n",
            "+------+---+------+------+------+\n",
            "\n",
            "+------+---+\n",
            "|  Name|Age|\n",
            "+------+---+\n",
            "|  Anna| 28|\n",
            "|  Kate| 28|\n",
            "|  John| 31|\n",
            "|  Emma| 32|\n",
            "|  Sara| 23|\n",
            "| Julia| 28|\n",
            "|Carlos| 32|\n",
            "| Diana| 32|\n",
            "| Steve| 35|\n",
            "|Sophia| 23|\n",
            "| Chris| 28|\n",
            "+------+---+\n",
            "\n",
            "+------------------+\n",
            "|       avg(Salary)|\n",
            "+------------------+\n",
            "|3813.3333333333335|\n",
            "+------------------+\n",
            "\n"
          ]
        }
      ],
      "source": [
        "data = [\n",
        "    ('James', 34, 'M', 3000, 1),\n",
        "    ('Anna', 28, 'F', 4100, 2),\n",
        "    ('Lee', 23, 'M', 2700, 1),\n",
        "    ('Kate', 28, 'F', 5000, 3),\n",
        "    ('John', 31, 'M', 3500, 2),\n",
        "    ('Emma', 32, 'F', 3200, 3),\n",
        "    ('Mike', 27, 'M', 2800, 1),\n",
        "    ('Sara', 23, 'F', 4500, 2),\n",
        "    ('Tom', 30, 'M', 3000, 3),\n",
        "    ('Julia', 28, 'F', 3900, 1),\n",
        "    ('Carlos', 32, 'M', 4600, 2),\n",
        "    ('Diana', 32, 'F', 4200, 3),\n",
        "    ('Steve', 35, 'M', 5500, 1),\n",
        "    ('Sophia', 23, 'F', 3100, 2),\n",
        "    ('Chris', 28, 'M', 4100, 3)\n",
        "]\n",
        "columns = ['Name', 'Age', 'Gender', 'Salary', 'DeptId']\n",
        "df = spark.createDataFrame(data, schema=columns)\n",
        "df.createOrReplaceTempView('employees')\n",
        "spark.sql('SELECT * FROM employees').show()\n",
        "spark.sql('SELECT Name, Age FROM employees WHERE Salary > 3000').show()\n",
        "spark.sql('SELECT AVG(Salary) FROM employees').show()\n"
      ]
    },
    {
      "cell_type": "markdown",
      "id": "9fd8b4f1",
      "metadata": {
        "id": "9fd8b4f1"
      },
      "source": [
        "## Advanced Queries for Data Analysis\n",
        "\n"
      ]
    },
    {
      "cell_type": "markdown",
      "id": "259a883a-f417-43d2-b85d-d5f011d5c074",
      "metadata": {
        "id": "259a883a-f417-43d2-b85d-d5f011d5c074"
      },
      "source": [
        "### Tugas\n"
      ]
    },
    {
      "cell_type": "code",
      "execution_count": 9,
      "id": "4fc8a9e6",
      "metadata": {
        "colab": {
          "base_uri": "https://localhost:8080/"
        },
        "id": "4fc8a9e6",
        "outputId": "158aad8c-8779-4738-8289-0aa50eeef1d6"
      },
      "outputs": [
        {
          "output_type": "stream",
          "name": "stdout",
          "text": [
            "+------+-----------+---+\n",
            "|Gender|TotalSalary|Age|\n",
            "+------+-----------+---+\n",
            "|     M|       2700| 23|\n",
            "|     F|       7600| 23|\n",
            "|     M|       2800| 27|\n",
            "|     F|      13000| 28|\n",
            "|     M|       4100| 28|\n",
            "|     M|       3000| 30|\n",
            "|     M|       3500| 31|\n",
            "|     F|       7400| 32|\n",
            "|     M|       4600| 32|\n",
            "|     M|       3000| 34|\n",
            "|     M|       5500| 35|\n",
            "+------+-----------+---+\n",
            "\n"
          ]
        }
      ],
      "source": [
        "# Total gaji berdasarkan jenis kelamin dan usia.\n",
        "\n",
        "spark.sql('''\n",
        "SELECT Gender, SUM(Salary) as TotalSalary, Age\n",
        "FROM employees\n",
        "GROUP BY Gender, Age\n",
        "ORDER BY Age\n",
        "''').show()"
      ]
    },
    {
      "cell_type": "code",
      "execution_count": 10,
      "id": "b88fe647-3895-4ac7-9be7-3c987a1e8ddc",
      "metadata": {
        "colab": {
          "base_uri": "https://localhost:8080/"
        },
        "id": "b88fe647-3895-4ac7-9be7-3c987a1e8ddc",
        "outputId": "abaea791-f51b-48c8-dafd-df12cb32d5a8"
      },
      "outputs": [
        {
          "output_type": "stream",
          "name": "stdout",
          "text": [
            "+------+---------+\n",
            "|DeptId|avgSalary|\n",
            "+------+---------+\n",
            "|     1|   3580.0|\n",
            "|     3|   3900.0|\n",
            "|     2|   3960.0|\n",
            "+------+---------+\n",
            "\n"
          ]
        }
      ],
      "source": [
        "# Rata-rata gaji per departemen.\n",
        "\n",
        "spark.sql('''\n",
        "SELECT DeptId, AVG(Salary) as avgSalary\n",
        "FROM employees\n",
        "GROUP BY DeptId\n",
        "''').show()"
      ]
    },
    {
      "cell_type": "code",
      "execution_count": 11,
      "id": "920921ce-18dd-43ee-a214-ce51e437b1ce",
      "metadata": {
        "colab": {
          "base_uri": "https://localhost:8080/"
        },
        "id": "920921ce-18dd-43ee-a214-ce51e437b1ce",
        "outputId": "5b36af0c-f58b-4126-8eb4-1bb688aae444"
      },
      "outputs": [
        {
          "output_type": "stream",
          "name": "stdout",
          "text": [
            "Rata-rata gaji per gender\n",
            "+------+----------+\n",
            "|Gender|avg_salary|\n",
            "+------+----------+\n",
            "|     F|    4000.0|\n",
            "|     M|    3650.0|\n",
            "+------+----------+\n",
            "\n",
            "Karyawan yang memiliki gaji di atas rata-rata untuk masing-masing gender\n",
            "+------+------+------+\n",
            "|  Name|Gender|Salary|\n",
            "+------+------+------+\n",
            "|  Anna|     F|  4100|\n",
            "|  Kate|     F|  5000|\n",
            "|  Sara|     F|  4500|\n",
            "| Diana|     F|  4200|\n",
            "|Carlos|     M|  4600|\n",
            "| Steve|     M|  5500|\n",
            "| Chris|     M|  4100|\n",
            "+------+------+------+\n",
            "\n"
          ]
        }
      ],
      "source": [
        "# Karyawan yang memiliki gaji di atas rata-rata untuk gender masing-masing.\n",
        "\n",
        "print('Rata-rata gaji per gender')\n",
        "avg_salaries_gender = spark.sql('''\n",
        "SELECT Gender, AVG(Salary) AS avg_salary\n",
        "FROM employees\n",
        "GROUP BY Gender\n",
        "''')\n",
        "\n",
        "avg_salaries_gender.createOrReplaceTempView('avg_salaries_gender')\n",
        "avg_salaries_gender.show()\n",
        "\n",
        "print('Karyawan yang memiliki gaji di atas rata-rata untuk masing-masing gender')\n",
        "spark.sql('''\n",
        "SELECT e.Name, e.Gender, e.Salary\n",
        "FROM employees e\n",
        "JOIN avg_salaries_gender a ON e.Gender = a.Gender\n",
        "WHERE e.Salary > a.avg_salary\n",
        "''').show()\n"
      ]
    },
    {
      "cell_type": "code",
      "execution_count": 12,
      "id": "66c6b2b0-6241-43e8-a9c4-742e6ec34285",
      "metadata": {
        "colab": {
          "base_uri": "https://localhost:8080/"
        },
        "id": "66c6b2b0-6241-43e8-a9c4-742e6ec34285",
        "outputId": "d0cc03fd-127c-4b0d-d4ea-8fe5d6d41cab"
      },
      "outputs": [
        {
          "output_type": "stream",
          "name": "stdout",
          "text": [
            "+------+------+------+----+\n",
            "|  Name|Salary|DeptId|Rank|\n",
            "+------+------+------+----+\n",
            "| Steve|  5500|     1|   1|\n",
            "| Julia|  3900|     1|   2|\n",
            "| James|  3000|     1|   3|\n",
            "|  Mike|  2800|     1|   4|\n",
            "|   Lee|  2700|     1|   5|\n",
            "|Carlos|  4600|     2|   1|\n",
            "|  Sara|  4500|     2|   2|\n",
            "|  Anna|  4100|     2|   3|\n",
            "|  John|  3500|     2|   4|\n",
            "|Sophia|  3100|     2|   5|\n",
            "|  Kate|  5000|     3|   1|\n",
            "| Diana|  4200|     3|   2|\n",
            "| Chris|  4100|     3|   3|\n",
            "|  Emma|  3200|     3|   4|\n",
            "|   Tom|  3000|     3|   5|\n",
            "+------+------+------+----+\n",
            "\n"
          ]
        }
      ],
      "source": [
        "# Ranking karyawan berdasarkan gaji dalam departemen mereka.\n",
        "\n",
        "spark.sql('''\n",
        "SELECT Name, Salary, DeptId, RANK() OVER (PARTITION BY DeptId ORDER BY Salary DESC) AS Rank\n",
        "FROM employees\n",
        "ORDER BY DeptId, Rank\n",
        "''').show()"
      ]
    },
    {
      "cell_type": "markdown",
      "id": "3c4fffdc",
      "metadata": {
        "id": "3c4fffdc"
      },
      "source": [
        "## Penggunaan Window Functions dan Subqueries\n"
      ]
    },
    {
      "cell_type": "markdown",
      "id": "85426275-9b9b-4f8a-8282-d5450d0178f1",
      "metadata": {
        "id": "85426275-9b9b-4f8a-8282-d5450d0178f1"
      },
      "source": [
        "### Tugas\n"
      ]
    },
    {
      "cell_type": "code",
      "execution_count": 13,
      "id": "eb927310",
      "metadata": {
        "colab": {
          "base_uri": "https://localhost:8080/"
        },
        "id": "eb927310",
        "outputId": "a1567692-5c01-46b2-851f-4907ee6333a9"
      },
      "outputs": [
        {
          "output_type": "stream",
          "name": "stdout",
          "text": [
            "+------+---+------+----+\n",
            "|  Name|Age|Salary|rank|\n",
            "+------+---+------+----+\n",
            "|  Sara| 23|  4500|   1|\n",
            "|Sophia| 23|  3100|   2|\n",
            "|   Lee| 23|  2700|   3|\n",
            "|  Mike| 27|  2800|   1|\n",
            "|  Kate| 28|  5000|   1|\n",
            "|  Anna| 28|  4100|   2|\n",
            "| Chris| 28|  4100|   3|\n",
            "| Julia| 28|  3900|   4|\n",
            "|   Tom| 30|  3000|   1|\n",
            "|  John| 31|  3500|   1|\n",
            "|Carlos| 32|  4600|   1|\n",
            "| Diana| 32|  4200|   2|\n",
            "|  Emma| 32|  3200|   3|\n",
            "| James| 34|  3000|   1|\n",
            "| Steve| 35|  5500|   1|\n",
            "+------+---+------+----+\n",
            "\n"
          ]
        }
      ],
      "source": [
        "# Window functions untuk menemukan karyawan dengan gaji tertinggi dan urutannya berdasarkan kelompok usia.\n",
        "\n",
        "spark.sql('''\n",
        "SELECT Name, Age, Salary, ROW_NUMBER() OVER (PARTITION BY Age ORDER BY Salary DESC) as rank\n",
        "FROM employees\n",
        "''').show()"
      ]
    },
    {
      "cell_type": "code",
      "execution_count": 14,
      "id": "188abfda-616a-4b67-b891-ebc947647ed6",
      "metadata": {
        "colab": {
          "base_uri": "https://localhost:8080/"
        },
        "id": "188abfda-616a-4b67-b891-ebc947647ed6",
        "outputId": "d67f4088-8ec8-44c4-f5ee-7643ff27d3cf"
      },
      "outputs": [
        {
          "output_type": "stream",
          "name": "stdout",
          "text": [
            "+------+---+------+----+\n",
            "|  Name|Age|Salary|rank|\n",
            "+------+---+------+----+\n",
            "|  Sara| 23|  4500|   1|\n",
            "|Sophia| 23|  3100|   2|\n",
            "|   Lee| 23|  2700|   3|\n",
            "|  Mike| 27|  2800|   1|\n",
            "|  Kate| 28|  5000|   1|\n",
            "|  Anna| 28|  4100|   2|\n",
            "| Chris| 28|  4100|   3|\n",
            "|   Tom| 30|  3000|   1|\n",
            "|  John| 31|  3500|   1|\n",
            "|Carlos| 32|  4600|   1|\n",
            "| Diana| 32|  4200|   2|\n",
            "|  Emma| 32|  3200|   3|\n",
            "| James| 34|  3000|   1|\n",
            "| Steve| 35|  5500|   1|\n",
            "+------+---+------+----+\n",
            "\n"
          ]
        }
      ],
      "source": [
        "# Window functions untuk menemukan top 3 karyawan dalam kelompok usia tertentu\n",
        "\n",
        "spark.sql('''\n",
        "WITH ranked_employees AS (\n",
        "    SELECT Name, Age, Salary,\n",
        "           ROW_NUMBER() OVER (PARTITION BY Age ORDER BY Salary DESC) as rank\n",
        "    FROM employees\n",
        ")\n",
        "SELECT Name, Age, Salary, rank\n",
        "FROM ranked_employees\n",
        "WHERE rank <= 3\n",
        "ORDER BY Age, rank\n",
        "''').show()"
      ]
    },
    {
      "cell_type": "markdown",
      "id": "5fb43ac4",
      "metadata": {
        "id": "5fb43ac4"
      },
      "source": [
        "## Advanced Spark SQL Queries\n"
      ]
    },
    {
      "cell_type": "markdown",
      "id": "a7444c03-f198-4fb2-8b9c-90bddcb99f20",
      "metadata": {
        "id": "a7444c03-f198-4fb2-8b9c-90bddcb99f20"
      },
      "source": [
        "### Tugas"
      ]
    },
    {
      "cell_type": "code",
      "execution_count": 15,
      "id": "d89f4a68-ed3c-4220-b1ed-efedeca910bc",
      "metadata": {
        "colab": {
          "base_uri": "https://localhost:8080/"
        },
        "id": "d89f4a68-ed3c-4220-b1ed-efedeca910bc",
        "outputId": "cfced9f8-a345-42b3-c871-5384bb27d3a5"
      },
      "outputs": [
        {
          "output_type": "stream",
          "name": "stdout",
          "text": [
            "+------+---+-----------+-----------+\n",
            "|  Name|Age|   DeptName|ProjectName|\n",
            "+------+---+-----------+-----------+\n",
            "| Steve| 35|         HR|  Project A|\n",
            "| Julia| 28|         HR|  Project A|\n",
            "|  Mike| 27|         HR|  Project A|\n",
            "|   Lee| 23|         HR|  Project A|\n",
            "| James| 34|         HR|  Project A|\n",
            "| Chris| 28|Engineering|  Project C|\n",
            "| Diana| 32|Engineering|  Project C|\n",
            "|   Tom| 30|Engineering|  Project C|\n",
            "|  Emma| 32|Engineering|  Project C|\n",
            "|  Kate| 28|Engineering|  Project C|\n",
            "|Sophia| 23|  Marketing|  Project B|\n",
            "|Carlos| 32|  Marketing|  Project B|\n",
            "|  Sara| 23|  Marketing|  Project B|\n",
            "|  John| 31|  Marketing|  Project B|\n",
            "|  Anna| 28|  Marketing|  Project B|\n",
            "+------+---+-----------+-----------+\n",
            "\n"
          ]
        }
      ],
      "source": [
        "# Demonstrasi penggunaan multi-level joins dan subqueries untuk analisis data yang mendalam.\n",
        "\n",
        "from pyspark.sql import SparkSession\n",
        "spark = SparkSession.builder.appName('Pertemuan9').getOrCreate()\n",
        "\n",
        "employees = spark.createDataFrame([\n",
        "    ('James', 34, 'M', 3000, 1),\n",
        "    ('Anna', 28, 'F', 4100, 2),\n",
        "    ('Lee', 23, 'M', 2700, 1),\n",
        "    ('Kate', 28, 'F', 5000, 3),\n",
        "    ('John', 31, 'M', 3500, 2),\n",
        "    ('Emma', 32, 'F', 3200, 3),\n",
        "    ('Mike', 27, 'M', 2800, 1),\n",
        "    ('Sara', 23, 'F', 4500, 2),\n",
        "    ('Tom', 30, 'M', 3000, 3),\n",
        "    ('Julia', 28, 'F', 3900, 1),\n",
        "    ('Carlos', 32, 'M', 4600, 2),\n",
        "    ('Diana', 32, 'F', 4200, 3),\n",
        "    ('Steve', 35, 'M', 5500, 1),\n",
        "    ('Sophia', 23, 'F', 3100, 2),\n",
        "    ('Chris', 28, 'M', 4100, 3)\n",
        "], ['Name', 'Age', 'Gender', 'Salary', 'DeptId'])\n",
        "\n",
        "departments = spark.createDataFrame([\n",
        "    (1, 'HR'),\n",
        "    (2, 'Marketing'),\n",
        "    (3, 'Engineering')\n",
        "], ['DeptId', 'DeptName'])\n",
        "\n",
        "projects = spark.createDataFrame([\n",
        "    (1, 'Project A'),\n",
        "    (2, 'Project B'),\n",
        "    (3, 'Project C')\n",
        "], ['DeptId', 'ProjectName'])\n",
        "\n",
        "employees.createOrReplaceTempView('employees')\n",
        "departments.createOrReplaceTempView('departments')\n",
        "projects.createOrReplaceTempView('projects')\n",
        "\n",
        "spark.sql('''\n",
        "SELECT e.Name, e.Age, d.DeptName, p.ProjectName\n",
        "FROM employees e\n",
        "JOIN departments d ON e.DeptId = d.DeptId\n",
        "JOIN projects p ON e.DeptId = p.DeptId\n",
        "''').show()\n"
      ]
    },
    {
      "cell_type": "code",
      "execution_count": 16,
      "id": "a7168188",
      "metadata": {
        "colab": {
          "base_uri": "https://localhost:8080/"
        },
        "id": "a7168188",
        "outputId": "e049723a-1ea5-42af-dd9f-c7bcddaa02df"
      },
      "outputs": [
        {
          "output_type": "stream",
          "name": "stdout",
          "text": [
            "+------+-----------+------+-------------+----+\n",
            "|  Name|   DeptName|Salary|AvgDeptSalary|Rank|\n",
            "+------+-----------+------+-------------+----+\n",
            "| Steve|         HR|  5500|       3580.0|   1|\n",
            "| Julia|         HR|  3900|       3580.0|   2|\n",
            "| James|         HR|  3000|       3580.0|   3|\n",
            "|  Mike|         HR|  2800|       3580.0|   4|\n",
            "|   Lee|         HR|  2700|       3580.0|   5|\n",
            "|Carlos|  Marketing|  4600|       3960.0|   1|\n",
            "|  Sara|  Marketing|  4500|       3960.0|   2|\n",
            "|  Anna|  Marketing|  4100|       3960.0|   3|\n",
            "|  John|  Marketing|  3500|       3960.0|   4|\n",
            "|Sophia|  Marketing|  3100|       3960.0|   5|\n",
            "|  Kate|Engineering|  5000|       3900.0|   1|\n",
            "| Diana|Engineering|  4200|       3900.0|   2|\n",
            "| Chris|Engineering|  4100|       3900.0|   3|\n",
            "|  Emma|Engineering|  3200|       3900.0|   4|\n",
            "|   Tom|Engineering|  3000|       3900.0|   5|\n",
            "+------+-----------+------+-------------+----+\n",
            "\n"
          ]
        }
      ],
      "source": [
        "# Rata-rata gaji per departemen dan rangking setiap karyawan dalam departemen berdasarkan gaji.\n",
        "\n",
        "spark.sql('''\n",
        "SELECT e.Name, d.DeptName, e.Salary,\n",
        "       AVG(e.Salary) OVER (PARTITION BY e.DeptId) as AvgDeptSalary,\n",
        "       ROW_NUMBER() OVER (PARTITION BY e.DeptId ORDER BY e.Salary DESC) as Rank\n",
        "FROM employees e\n",
        "JOIN departments d ON e.DeptId = d.DeptId\n",
        "''').show()"
      ]
    },
    {
      "cell_type": "code",
      "execution_count": 17,
      "id": "a2b638a5",
      "metadata": {
        "colab": {
          "base_uri": "https://localhost:8080/"
        },
        "id": "a2b638a5",
        "outputId": "65382ce0-6f26-4e7e-faf5-81637e543aeb"
      },
      "outputs": [
        {
          "output_type": "stream",
          "name": "stdout",
          "text": [
            "+---+-----------+---------+----+\n",
            "|Age|   DeptName|AvgSalary|Rank|\n",
            "+---+-----------+---------+----+\n",
            "| 23|         HR|   2700.0|   1|\n",
            "| 23|  Marketing|   3800.0|   1|\n",
            "| 27|         HR|   2800.0|   1|\n",
            "| 28|         HR|   3900.0|   1|\n",
            "| 28|  Marketing|   4100.0|   1|\n",
            "| 28|Engineering|   4550.0|   1|\n",
            "| 30|Engineering|   3000.0|   1|\n",
            "| 31|  Marketing|   3500.0|   1|\n",
            "| 32|  Marketing|   4600.0|   1|\n",
            "| 32|Engineering|   3700.0|   1|\n",
            "| 34|         HR|   3000.0|   1|\n",
            "| 35|         HR|   5500.0|   1|\n",
            "+---+-----------+---------+----+\n",
            "\n"
          ]
        }
      ],
      "source": [
        "# Window functions untuk menentukan tren gaji berdasarkan usia di setiap departemen.\n",
        "\n",
        "spark.sql('''\n",
        "SELECT e.Age, d.DeptName, AVG(e.Salary) as AvgSalary,\n",
        "       ROW_NUMBER() OVER (PARTITION BY e.Age, e.DeptId ORDER BY AVG(e.Salary) DESC) as Rank\n",
        "FROM employees e\n",
        "JOIN departments d ON e.DeptId = d.DeptId\n",
        "GROUP BY e.Age, d.DeptName, e.DeptId\n",
        "''').show()"
      ]
    },
    {
      "cell_type": "markdown",
      "id": "88a2c206",
      "metadata": {
        "id": "88a2c206"
      },
      "source": [
        "## Advanced Data Analysis and Visualization\n",
        "\n",
        "---\n",
        "\n"
      ]
    },
    {
      "cell_type": "markdown",
      "id": "7b1188f4-d2a7-4ca6-9b40-043a41080569",
      "metadata": {
        "id": "7b1188f4-d2a7-4ca6-9b40-043a41080569"
      },
      "source": [
        "### Tugas"
      ]
    },
    {
      "cell_type": "code",
      "execution_count": 18,
      "id": "a170f256",
      "metadata": {
        "colab": {
          "base_uri": "https://localhost:8080/",
          "height": 507
        },
        "id": "a170f256",
        "outputId": "014490e0-ad83-478f-c607-dc4fe695f80b"
      },
      "outputs": [
        {
          "output_type": "display_data",
          "data": {
            "text/plain": [
              "<Figure size 1000x500 with 1 Axes>"
            ],
            "image/png": "[encoded data removed]"
          },
          "metadata": {}
        }
      ],
      "source": [
        "# Analisis tren gaji menggunakan Spark SQL dan visualisasikan hasilnya.\n",
        "\n",
        "import matplotlib.pyplot as plt\n",
        "import pandas as pd\n",
        "\n",
        "# Advanced data analysis with visualization\n",
        "salary_trends = spark.sql('''\n",
        "SELECT Age, AVG(Salary) AS AverageSalary\n",
        "FROM employees\n",
        "GROUP BY Age\n",
        "ORDER BY Age\n",
        "''').toPandas()\n",
        "\n",
        "# Visualization of salary trends\n",
        "plt.figure(figsize=(10, 5))\n",
        "plt.plot(salary_trends['Age'], salary_trends['AverageSalary'], marker='o')\n",
        "plt.xlabel('Age')\n",
        "plt.ylabel('Average Salary')\n",
        "plt.title('Salary Trends by Age')\n",
        "plt.grid(True)\n",
        "plt.show()\n"
      ]
    },
    {
      "cell_type": "markdown",
      "source": [
        "## Homework\n"
      ],
      "metadata": {
        "id": "-dSi1zRkc_Jh"
      },
      "id": "-dSi1zRkc_Jh"
    },
    {
      "cell_type": "code",
      "execution_count": 19,
      "id": "737b7ece-5912-49a3-896b-e474850d68c8",
      "metadata": {
        "colab": {
          "base_uri": "https://localhost:8080/",
          "height": 723
        },
        "id": "737b7ece-5912-49a3-896b-e474850d68c8",
        "outputId": "89183b07-10cc-43cc-857e-e25ec54be7da"
      },
      "outputs": [
        {
          "output_type": "stream",
          "name": "stdout",
          "text": [
            "+-----------+-----------+-------------+\n",
            "|   DeptName|TotalSalary|EmployeeCount|\n",
            "+-----------+-----------+-------------+\n",
            "|Engineering|      19500|            5|\n",
            "|         HR|      17900|            5|\n",
            "|  Marketing|      19800|            5|\n",
            "+-----------+-----------+-------------+\n",
            "\n"
          ]
        },
        {
          "output_type": "display_data",
          "data": {
            "text/plain": [
              "<Figure size 1000x600 with 1 Axes>"
            ],
            "image/png": "[encoded data removed]"
          },
          "metadata": {}
        }
      ],
      "source": [
        "# Tugas 1: Total gaji dan jumlah karyawan per departemen dan visualisasi perbandingan antar departemen.\n",
        "\n",
        "\n",
        "import matplotlib.pyplot as plt\n",
        "import pandas as pd\n",
        "\n",
        "# Total gaji dan jumlah karyawan per departemen\n",
        "total_salary_and_count = spark.sql('''\n",
        "SELECT d.DeptName,\n",
        "       SUM(e.Salary) as TotalSalary,\n",
        "       COUNT(e.Name) as EmployeeCount\n",
        "FROM employees e\n",
        "JOIN departments d ON e.DeptId = d.DeptId\n",
        "GROUP BY d.DeptName\n",
        "''')\n",
        "\n",
        "total_salary_and_count.show()\n",
        "\n",
        "# Mengonversi hasil ke DataFrame pandas untuk visualisasi\n",
        "df = total_salary_and_count.toPandas()\n",
        "\n",
        "# Membuat grafik batang\n",
        "plt.figure(figsize=(10, 6))\n",
        "plt.bar(df['DeptName'], df['TotalSalary'], color='pink')\n",
        "plt.xlabel('Departemen')\n",
        "plt.ylabel('Total Gaji')\n",
        "plt.title('Total Gaji per Departemen')\n",
        "plt.xticks(rotation=0)\n",
        "plt.show()"
      ]
    },
    {
      "cell_type": "code",
      "execution_count": 25,
      "id": "15079bf9-f664-4385-899e-335737fdb102",
      "metadata": {
        "colab": {
          "base_uri": "https://localhost:8080/",
          "height": 831
        },
        "id": "15079bf9-f664-4385-899e-335737fdb102",
        "outputId": "85c237d1-1661-426f-c701-219fb3bc1fe6"
      },
      "outputs": [
        {
          "output_type": "stream",
          "name": "stdout",
          "text": [
            "+------+---+------+\n",
            "|  Name|Age|Salary|\n",
            "+------+---+------+\n",
            "|  Kate| 28|  5000|\n",
            "|Carlos| 32|  4600|\n",
            "| Diana| 32|  4200|\n",
            "|  Sara| 23|  4500|\n",
            "+------+---+------+\n",
            "\n"
          ]
        },
        {
          "output_type": "display_data",
          "data": {
            "text/plain": [
              "<Figure size 800x800 with 1 Axes>"
            ],
            "image/png": "[encoded data removed]"
          },
          "metadata": {}
        }
      ],
      "source": [
        "# Tugas 2: Karyawan dengan gaji di atas rata-rata dalam setiap kelompok usia\n",
        "#          dan Visualisasikan data ini dalam bentuk grafik batang atau pie chart.\n",
        "\n",
        "\n",
        "import pandas as pd\n",
        "import matplotlib.pyplot as plt\n",
        "\n",
        "above_average_salary = spark.sql('''\n",
        "WITH AvgSalaryByAge AS (\n",
        "    SELECT Age, AVG(Salary) as AvgSalary\n",
        "    FROM employees\n",
        "    GROUP BY Age\n",
        ")\n",
        "SELECT e.Name, e.Age, e.Salary\n",
        "FROM employees e\n",
        "JOIN AvgSalaryByAge a ON e.Age = a.Age\n",
        "WHERE e.Salary > a.AvgSalary\n",
        "''')\n",
        "above_average_salary.show()\n",
        "\n",
        "above_average_salary_pd = above_average_salary.toPandas()\n",
        "\n",
        "custom_colors = ['lightcoral', 'skyblue', 'lightgreen', 'peachpuff']\n",
        "plt.figure(figsize=(8, 8))\n",
        "plt.pie(above_average_salary_pd['Salary'],\n",
        "        labels=above_average_salary_pd['Name'],\n",
        "        autopct='%1.1f%%',\n",
        "        startangle=90,\n",
        "        colors=custom_colors[:len(above_average_salary_pd)])\n",
        "\n",
        "plt.title('Karyawan dengan Gaji di Atas Rata-rata dalam Setiap Kelompok Usia')\n",
        "plt.axis('equal')\n",
        "\n",
        "plt.show()"
      ]
    },
    {
      "cell_type": "code",
      "execution_count": 34,
      "id": "f93741dd-e6f7-4ceb-b1a8-6e50723685ef",
      "metadata": {
        "colab": {
          "base_uri": "https://localhost:8080/"
        },
        "id": "f93741dd-e6f7-4ceb-b1a8-6e50723685ef",
        "outputId": "95cfd590-ba46-4e3e-8303-cad7c7a10059"
      },
      "outputs": [
        {
          "output_type": "stream",
          "name": "stdout",
          "text": [
            "+----------+---+------+------+------+\n",
            "|      Name|Age|Gender|Salary|DeptId|\n",
            "+----------+---+------+------+------+\n",
            "| Pegawai 1| 36|     M|  7723|     2|\n",
            "| Pegawai 2| 49|     M|  6492|     4|\n",
            "| Pegawai 3| 35|     M|  6900|     1|\n",
            "| Pegawai 4| 31|     M|  7715|     4|\n",
            "| Pegawai 5| 34|     F|  5760|     4|\n",
            "| Pegawai 6| 44|     M|  9265|     4|\n",
            "| Pegawai 7| 42|     F|  4740|     1|\n",
            "| Pegawai 8| 47|     M|  7113|     5|\n",
            "| Pegawai 9| 31|     F|  6935|     3|\n",
            "|Pegawai 10| 42|     F|  5223|     2|\n",
            "+----------+---+------+------+------+\n",
            "only showing top 10 rows\n",
            "\n"
          ]
        }
      ],
      "source": [
        "# Tugas 3: Buat dataset yang lebih besar (misalnya, 100+ baris) dan lakukan analisis mendalam menggunakan SQL\n",
        "#          functions seperti SUM(), AVG(), COUNT(), serta JOIN antar tabel serta buat visualisasi yang menarik.\n",
        "\n",
        "\n",
        "import random\n",
        "from pyspark.sql import SparkSession\n",
        "\n",
        "spark = SparkSession.builder.appName(\"Create Large Employee Dataset\").getOrCreate()\n",
        "\n",
        "\n",
        "num_employees = 150\n",
        "names = [f'Pegawai {i}' for i in range(1, num_employees + 1)]\n",
        "ages = [random.randint(20, 60) for _ in range(num_employees)]\n",
        "genders = [random.choice(['M', 'F']) for _ in range(num_employees)]\n",
        "salaries = [random.randint(2500, 10000) for _ in range(num_employees)]\n",
        "dept_ids = [random.randint(1, 5) for _ in range(num_employees)]\n",
        "\n",
        "employee_data = zip(names, ages, genders, salaries, dept_ids)\n",
        "employees_df = spark.createDataFrame(employee_data, ['Name', 'Age', 'Gender', 'Salary', 'DeptId'])\n",
        "\n",
        "employees_df.show(10)\n",
        "\n",
        "employees_df.createOrReplaceTempView('employees')"
      ]
    },
    {
      "cell_type": "code",
      "execution_count": 35,
      "id": "38836421-bea0-4a12-9abe-b69686e51e89",
      "metadata": {
        "colab": {
          "base_uri": "https://localhost:8080/"
        },
        "id": "38836421-bea0-4a12-9abe-b69686e51e89",
        "outputId": "34a8c92e-e936-4cb8-bef5-98c3f8abe6ed"
      },
      "outputs": [
        {
          "output_type": "stream",
          "name": "stdout",
          "text": [
            "+---------+-------------+-----------+-----------------+\n",
            "| DeptName|EmployeeCount|TotalSalary|        AvgSalary|\n",
            "+---------+-------------+-----------+-----------------+\n",
            "|  Finance|           31|     203850|6575.806451612903|\n",
            "|       HR|           32|     187308|         5853.375|\n",
            "|       IT|           29|     183530|6328.620689655172|\n",
            "|Marketing|           33|     199952|6059.151515151515|\n",
            "|    Sales|           25|     168133|          6725.32|\n",
            "+---------+-------------+-----------+-----------------+\n",
            "\n"
          ]
        }
      ],
      "source": [
        "departments_data = [\n",
        "    (1, 'HR'),\n",
        "    (2, 'IT'),\n",
        "    (3, 'Finance'),\n",
        "    (4, 'Marketing'),\n",
        "    (5, 'Sales')\n",
        "]\n",
        "\n",
        "departments_df = spark.createDataFrame(departments_data, ['DeptId', 'DeptName'])\n",
        "departments_df.createOrReplaceTempView('departments')\n",
        "\n",
        "analysis = spark.sql('''\n",
        "SELECT d.DeptName,\n",
        "       COUNT(e.Name) AS EmployeeCount,\n",
        "       SUM(e.Salary) AS TotalSalary,\n",
        "       AVG(e.Salary) AS AvgSalary\n",
        "FROM employees e\n",
        "JOIN departments d ON e.DeptId = d.DeptId\n",
        "GROUP BY d.DeptName\n",
        "ORDER BY d.DeptName\n",
        "''')\n",
        "\n",
        "analysis.show()"
      ]
    },
    {
      "cell_type": "code",
      "execution_count": 40,
      "id": "ad861059-2129-4433-82e7-3aef68d5ceaf",
      "metadata": {
        "colab": {
          "base_uri": "https://localhost:8080/",
          "height": 607
        },
        "id": "ad861059-2129-4433-82e7-3aef68d5ceaf",
        "outputId": "28038602-d31e-438e-b936-879cacfdc452"
      },
      "outputs": [
        {
          "output_type": "display_data",
          "data": {
            "text/plain": [
              "<Figure size 1200x600 with 1 Axes>"
            ],
            "image/png": "[encoded data removed]"
          },
          "metadata": {}
        }
      ],
      "source": [
        "# Grafik Total Gaji per Departemen\n",
        "\n",
        "import matplotlib.pyplot as plt\n",
        "import pandas as pd\n",
        "\n",
        "df_deep_analysis = analysis.toPandas()\n",
        "\n",
        "plt.figure(figsize=(12, 6))\n",
        "\n",
        "custom_colors = ['purple', 'lightgreen', 'lightblue', 'salmon', 'orange']\n",
        "\n",
        "if len(custom_colors) < len(df_deep_analysis):\n",
        "    raise ValueError(\"Not enough colors provided for the number of departments.\")\n",
        "\n",
        "plt.subplot(1, 2, 1)\n",
        "bars = plt.bar(df_deep_analysis['DeptName'], df_deep_analysis['TotalSalary'], color=custom_colors[:len(df_deep_analysis)])\n",
        "plt.xlabel('Departemen')\n",
        "plt.ylabel('Total Gaji')\n",
        "plt.title('Total Gaji per Departemen')\n",
        "plt.xticks(rotation=45)\n",
        "\n",
        "plt.legend(bars, df_deep_analysis['DeptName'], title='Departemen', bbox_to_anchor=(1.05, 1), loc='upper left')\n",
        "\n",
        "plt.tight_layout()\n",
        "plt.show()\n"
      ]
    },
    {
      "cell_type": "code",
      "execution_count": 39,
      "id": "122a7ed3-f4ff-43a0-99b0-8618f5f54363",
      "metadata": {
        "colab": {
          "base_uri": "https://localhost:8080/",
          "height": 487
        },
        "id": "122a7ed3-f4ff-43a0-99b0-8618f5f54363",
        "outputId": "fa93237d-7874-4a81-f572-f2d66ecfa127"
      },
      "outputs": [
        {
          "output_type": "display_data",
          "data": {
            "text/plain": [
              "<Figure size 640x480 with 1 Axes>"
            ],
            "image/png": "[encoded data removed]"
          },
          "metadata": {}
        }
      ],
      "source": [
        "# Grafik Rata-Rata Gaji per Departemen\n",
        "\n",
        "import matplotlib.pyplot as plt\n",
        "\n",
        "custom_colors = ['lightgreen', 'lightblue', 'salmon', 'orange', 'purple']\n",
        "\n",
        "if len(custom_colors) < len(df_deep_analysis):\n",
        "    raise ValueError(\"Not enough colors provided for the number of departments.\")\n",
        "\n",
        "plt.subplot(1, 2, 2)\n",
        "bars = plt.barh(df_deep_analysis['DeptName'], df_deep_analysis['AvgSalary'], color=custom_colors[:len(df_deep_analysis)])\n",
        "\n",
        "plt.ylabel('Departemen')\n",
        "plt.xlabel('Rata-rata Gaji')\n",
        "plt.title('Rata-rata Gaji per Departemen')\n",
        "\n",
        "plt.legend(bars, df_deep_analysis['DeptName'], title='Departemen', bbox_to_anchor=(1.05, 1), loc='upper left')\n",
        "\n",
        "plt.tight_layout()\n",
        "plt.show()\n"
      ]
    },
    {
      "cell_type": "code",
      "source": [],
      "metadata": {
        "id": "noRFUIm4e4MZ"
      },
      "id": "noRFUIm4e4MZ",
      "execution_count": null,
      "outputs": []
    }
  ],
  "metadata": {
    "kernelspec": {
      "display_name": "Python 3 (ipykernel)",
      "language": "python",
      "name": "python3"
    },
    "language_info": {
      "codemirror_mode": {
        "name": "ipython",
        "version": 3
      },
      "file_extension": ".py",
      "mimetype": "text/x-python",
      "name": "python",
      "nbconvert_exporter": "python",
      "pygments_lexer": "ipython3",
      "version": "3.11.9"
    },
    "colab": {
      "provenance": []
    }
  },
  "nbformat": 4,
  "nbformat_minor": 5
}